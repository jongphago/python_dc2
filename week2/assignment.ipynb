{
 "cells": [
  {
   "cell_type": "markdown",
   "metadata": {},
   "source": [
    "# Week2 Assignment"
   ]
  },
  {
   "cell_type": "markdown",
   "metadata": {
    "vscode": {
     "languageId": "plaintext"
    }
   },
   "source": [
    "## 파이썬 미션① max 값 구하기\n",
    "- 함수의 이름과 매개변수를 선언해요.\n",
    "1. max_num 변수를 만들어서 -999로 초기화해요.\n",
    "2. nums 리스트의 길이만큼 반복해요.\n",
    "3. nums 리스트의 첫번째 요소부터 끝 요소까지 max_num과 비교해서 더 큰 값을 max_num에 저장해요.\n",
    "4. 반복문이 끝나면 max_num을 출력해요."
   ]
  },
  {
   "cell_type": "code",
   "execution_count": null,
   "metadata": {},
   "outputs": [],
   "source": [
    "def my_max(nums):\n",
    "    max_num = -999\n",
    "    for num in nums:\n",
    "        if num > max_num:\n",
    "            max_num = num\n",
    "    print(max_num)"
   ]
  },
  {
   "cell_type": "code",
   "execution_count": null,
   "metadata": {},
   "outputs": [],
   "source": [
    "nums = [1, 9, 7, 2, 3, 99, 0]\n",
    "my_max(nums)"
   ]
  },
  {
   "cell_type": "markdown",
   "metadata": {},
   "source": [
    "## 파이썬 미션② 구매 가능 음료 알려주기\n",
    "\n",
    "\n",
    "1. 함수 이름을 선언하세요\n",
    "2. 음료 딕셔너리의 전체 key만큼 반복해요.\n",
    "3. 갖고 있는 돈 보다 음료의 가격이 낮거나 같으면\n",
    "4. 음료의 이름을 출력해요."
   ]
  },
  {
   "cell_type": "code",
   "execution_count": null,
   "metadata": {},
   "outputs": [],
   "source": [
    "def buy(money):\n",
    "    global drink\n",
    "    for key, value in drink.items():\n",
    "        if value <= money:\n",
    "            print(key)"
   ]
  },
  {
   "cell_type": "code",
   "execution_count": null,
   "metadata": {},
   "outputs": [],
   "source": [
    "drink = {\"콜라\": 1200, \"물\": 1000, \"망고주스\": 2000, \"사이다\": 800}\n",
    "\n",
    "print(\"살 수 있는 음료를 알려드리겠습니다.\")\n",
    "money = int(input(\"돈이 얼마 있습니까? \"))\n",
    "buy(money)"
   ]
  }
 ],
 "metadata": {
  "kernelspec": {
   "display_name": "dlab",
   "language": "python",
   "name": "python3"
  },
  "language_info": {
   "codemirror_mode": {
    "name": "ipython",
    "version": 3
   },
   "file_extension": ".py",
   "mimetype": "text/x-python",
   "name": "python",
   "nbconvert_exporter": "python",
   "pygments_lexer": "ipython3",
   "version": "3.10.4"
  }
 },
 "nbformat": 4,
 "nbformat_minor": 2
}
